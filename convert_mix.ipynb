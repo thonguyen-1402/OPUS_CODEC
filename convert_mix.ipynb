{
  "cells": [
    {
      "cell_type": "code",
      "execution_count": null,
      "metadata": {
        "colab": {
          "base_uri": "https://localhost:8080/",
          "height": 679
        },
        "collapsed": true,
        "id": "nMZshC1DlNxv",
        "outputId": "018567f8-44eb-4ab1-a647-07889f7e6f29"
      },
      "outputs": [
        {
          "name": "stdout",
          "output_type": "stream",
          "text": [
            "\r0% [Working]\r            \rHit:1 https://developer.download.nvidia.com/compute/cuda/repos/ubuntu2204/x86_64  InRelease\n",
            "Hit:2 https://cloud.r-project.org/bin/linux/ubuntu jammy-cran40/ InRelease\n",
            "Hit:3 http://archive.ubuntu.com/ubuntu jammy InRelease\n",
            "Hit:4 https://r2u.stat.illinois.edu/ubuntu jammy InRelease\n",
            "Get:5 http://archive.ubuntu.com/ubuntu jammy-updates InRelease [128 kB]\n",
            "Hit:6 https://ppa.launchpadcontent.net/deadsnakes/ppa/ubuntu jammy InRelease\n",
            "Hit:7 https://ppa.launchpadcontent.net/graphics-drivers/ppa/ubuntu jammy InRelease\n",
            "Hit:8 https://ppa.launchpadcontent.net/ubuntugis/ppa/ubuntu jammy InRelease\n",
            "Hit:9 http://archive.ubuntu.com/ubuntu jammy-backports InRelease\n",
            "Get:10 http://security.ubuntu.com/ubuntu jammy-security InRelease [129 kB]\n",
            "Fetched 257 kB in 2s (142 kB/s)\n",
            "Reading package lists... Done\n",
            "W: Skipping acquire of configured file 'main/source/Sources' as repository 'https://r2u.stat.illinois.edu/ubuntu jammy InRelease' does not seem to provide it (sources.list entry misspelt?)\n",
            "Reading package lists... Done\n",
            "Building dependency tree... Done\n",
            "Reading state information... Done\n",
            "fluidsynth is already the newest version (2.2.5-1).\n",
            "0 upgraded, 0 newly installed, 0 to remove and 39 not upgraded.\n",
            "Requirement already satisfied: pretty_midi in /usr/local/lib/python3.11/dist-packages (0.2.10)\n",
            "Requirement already satisfied: numpy>=1.7.0 in /usr/local/lib/python3.11/dist-packages (from pretty_midi) (2.0.2)\n",
            "Requirement already satisfied: mido>=1.1.16 in /usr/local/lib/python3.11/dist-packages (from pretty_midi) (1.3.3)\n",
            "Requirement already satisfied: six in /usr/local/lib/python3.11/dist-packages (from pretty_midi) (1.17.0)\n",
            "Requirement already satisfied: packaging in /usr/local/lib/python3.11/dist-packages (from mido>=1.1.16->pretty_midi) (24.2)\n",
            "FluidSynth runtime version 2.2.5\n",
            "Copyright (C) 2000-2022 Peter Hanappe and others.\n",
            "Distributed under the LGPL license.\n",
            "SoundFont(R) is a registered trademark of Creative Technology Ltd.\n",
            "\n",
            "fluidsynth: error: SoundFont file size mismatch\n",
            "\n",
            "** (process:17568): \u001b[1;35mCRITICAL\u001b[0m **: \u001b[34m14:31:18.824\u001b[0m: ipatch_container_init_iter: assertion 'IPATCH_IS_CONTAINER(container)' failed\n",
            "fluidsynth: error: ipatch_dls_reader_new() failed with error: 'Not a DLS file (RIFF id = 'sfbk\u0004')'\n",
            "fluidsynth: error: Failed to load SoundFont \"/content/MIDI_related/FluidR3_GM.sf2\"\n",
            "Failed to load the SoundFont /content/MIDI_related/FluidR3_GM.sf2\n",
            "Rendering audio to file '/content/MIDI_related/jazz_music.wav'..\n",
            "-rw-r--r-- 1 root root 34927916 Apr  8 14:31 /content/MIDI_related/jazz_music.wav\n"
          ]
        },
        {
          "data": {
            "application/javascript": "\n    async function download(id, filename, size) {\n      if (!google.colab.kernel.accessAllowed) {\n        return;\n      }\n      const div = document.createElement('div');\n      const label = document.createElement('label');\n      label.textContent = `Downloading \"${filename}\": `;\n      div.appendChild(label);\n      const progress = document.createElement('progress');\n      progress.max = size;\n      div.appendChild(progress);\n      document.body.appendChild(div);\n\n      const buffers = [];\n      let downloaded = 0;\n\n      const channel = await google.colab.kernel.comms.open(id);\n      // Send a message to notify the kernel that we're ready.\n      channel.send({})\n\n      for await (const message of channel.messages) {\n        // Send a message to notify the kernel that we're ready.\n        channel.send({})\n        if (message.buffers) {\n          for (const buffer of message.buffers) {\n            buffers.push(buffer);\n            downloaded += buffer.byteLength;\n            progress.value = downloaded;\n          }\n        }\n      }\n      const blob = new Blob(buffers, {type: 'application/binary'});\n      const a = document.createElement('a');\n      a.href = window.URL.createObjectURL(blob);\n      a.download = filename;\n      div.appendChild(a);\n      a.click();\n      div.remove();\n    }\n  ",
            "text/plain": [
              "<IPython.core.display.Javascript object>"
            ]
          },
          "metadata": {},
          "output_type": "display_data"
        },
        {
          "data": {
            "application/javascript": "download(\"download_0a25f886-bc4c-42a3-a337-4c9fdc7862b8\", \"jazz_music.wav\", 34927916)",
            "text/plain": [
              "<IPython.core.display.Javascript object>"
            ]
          },
          "metadata": {},
          "output_type": "display_data"
        },
        {
          "name": "stdout",
          "output_type": "stream",
          "text": [
            "Đã chuyển đổi thành công /content/MIDI_related/jazz_music.mid sang /content/MIDI_related/jazz_music.wav\n"
          ]
        }
      ],
      "source": [
        "# Cài đặt FluidSynth và thư viện cần thiết\n",
        "!apt-get update\n",
        "!apt-get install -y fluidsynth\n",
        "!pip install pretty_midi\n",
        "\n",
        "# Path:\n",
        "midi_file = \"/content/MIDI_related/jazz_music.mid\"\n",
        "soundfont_file = \"/content/MIDI_related/FluidR3_GM.sf2\"\n",
        "wav_file = midi_file.replace(\".mid\", \".wav\")\n",
        "\n",
        "# Chuyển đổi sử dụng FluidSynth\n",
        "!fluidsynth -ni \"{soundfont_file}\" \"{midi_file}\" -F \"{wav_file}\" -r 44100\n",
        "\n",
        "# Kiểm tra kết quả\n",
        "!ls -l \"{wav_file}\"\n",
        "\n",
        "# Tải file WAV về máy tính\n",
        "from google.colab import files\n",
        "files.download(wav_file)\n",
        "\n",
        "print(f\"Đã chuyển đổi thành công {midi_file} sang {wav_file}\")"
      ]
    },
    {
      "cell_type": "code",
      "execution_count": null,
      "metadata": {
        "colab": {
          "base_uri": "https://localhost:8080/"
        },
        "collapsed": true,
        "id": "WluVfHvexw_n",
        "outputId": "363e342d-0ddb-46bb-f018-3af93a9585bc"
      },
      "outputs": [
        {
          "name": "stdout",
          "output_type": "stream",
          "text": [
            "Collecting pydub\n",
            "  Downloading pydub-0.25.1-py2.py3-none-any.whl.metadata (1.4 kB)\n",
            "Downloading pydub-0.25.1-py2.py3-none-any.whl (32 kB)\n",
            "Installing collected packages: pydub\n",
            "Successfully installed pydub-0.25.1\n"
          ]
        }
      ],
      "source": [
        "!pip install pydub"
      ]
    },
    {
      "cell_type": "code",
      "execution_count": null,
      "metadata": {
        "colab": {
          "base_uri": "https://localhost:8080/"
        },
        "id": "sLC1jKjwx1fV",
        "outputId": "b57e81be-9c07-4b06-8312-5874f834779f"
      },
      "outputs": [
        {
          "name": "stdout",
          "output_type": "stream",
          "text": [
            "File đã được mix và lưu tại: /content/MIDI_related/mixed_output.wav\n"
          ]
        }
      ],
      "source": [
        "from pydub import AudioSegment\n",
        "\n",
        "# Đường dẫn tới 2 file WAV có sẵn trên Colab\n",
        "file1_path = \"/content/MIDI_related/Input.wav\"\n",
        "file2_path = \"/content/MIDI_related/wavconverted.wav\"\n",
        "\n",
        "# Đọc file âm thanh\n",
        "audio1 = AudioSegment.from_wav(file1_path)\n",
        "audio2 = AudioSegment.from_wav(file2_path)\n",
        "\n",
        "# Mix 2 file với nhau\n",
        "mixed = audio1.overlay(audio2)\n",
        "\n",
        "# Xuất file kết quả\n",
        "output_path = \"/content/MIDI_related/mixed_output.wav\"\n",
        "mixed.export(output_path, format=\"wav\")\n",
        "\n",
        "print(f\"File đã được mix và lưu tại: {output_path}\")\n"
      ]
    }
  ],
  "metadata": {
    "colab": {
      "provenance": []
    },
    "kernelspec": {
      "display_name": "Python 3",
      "name": "python3"
    },
    "language_info": {
      "name": "python"
    }
  },
  "nbformat": 4,
  "nbformat_minor": 0
}
